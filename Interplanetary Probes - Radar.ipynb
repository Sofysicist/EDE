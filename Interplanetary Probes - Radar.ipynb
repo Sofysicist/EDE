{
 "cells": [
  {
   "cell_type": "markdown",
   "id": "f0399632",
   "metadata": {},
   "source": [
    "# EDE - Interplanetary Probes - Radar Calculation"
   ]
  },
  {
   "cell_type": "markdown",
   "id": "b5a9c77f",
   "metadata": {},
   "source": [
    "First, import useful standard packages"
   ]
  },
  {
   "cell_type": "code",
   "execution_count": 3,
   "id": "b48b90f2",
   "metadata": {},
   "outputs": [],
   "source": [
    "import numpy as np\n",
    "import pandas as pd\n",
    "import matplotlib.pyplot as plt\n",
    "import astropy.units as u"
   ]
  },
  {
   "cell_type": "markdown",
   "id": "eee0afa7",
   "metadata": {},
   "source": [
    "Next, rearrange the radar SNR equation, as it was given to us by Michael Busch, to solve for distance. This is also the form in which it is presented in the Ostro paper."
   ]
  },
  {
   "cell_type": "code",
   "execution_count": 10,
   "id": "7ee9b268",
   "metadata": {},
   "outputs": [],
   "source": [
    "def squiggle_interplanetary_probe_radar_ede_distance(target_diameter,\n",
    "                                            p_rot,\n",
    "                                            t_integration,\n",
    "                                            SNR,\n",
    "                                            telescope_effective_area,\n",
    "                                            transmitter_power):\n",
    "    distance = (target_diameter**(3/2) * p_rot**(1/2) * t_integration**(1/2) * SNR**(-1) * transmitter_power * telescope_effective_area**(2))**(1/4)\n",
    "    \n",
    "    return distance.si"
   ]
  },
  {
   "cell_type": "markdown",
   "id": "d520234c",
   "metadata": {},
   "source": [
    "Try putting in some random numbers to test that the units work out and we get a distance"
   ]
  },
  {
   "cell_type": "code",
   "execution_count": 11,
   "id": "a3b3e123",
   "metadata": {},
   "outputs": [
    {
     "data": {
      "text/latex": [
       "$41.40609 \\; \\mathrm{\\frac{m^{15/8}\\,kg^{1/4}}{s^{1/2}}}$"
      ],
      "text/plain": [
       "<Quantity 41.40608962 kg(1/4) m(15/8) / s(1/2)>"
      ]
     },
     "execution_count": 11,
     "metadata": {},
     "output_type": "execute_result"
    }
   ],
   "source": [
    "interplanetary_probe_radar_ede_distance(1 * u.m,\n",
    "                                        1 * u.day,\n",
    "                                        1 * u.second,\n",
    "                                        10,\n",
    "                                        100 * u.m**2,\n",
    "                                        10 * u.W)"
   ]
  },
  {
   "cell_type": "markdown",
   "id": "df153dfc",
   "metadata": {},
   "source": [
    "Ahaha, so, we don't get a distance... that means that the SNR estimate equation is missing some constants or something. I looked up some lecture notes to find the full version. The PDF I dug up is in this directory, and contains the following equation:\n",
    "\n",
    "Note that I take kT_0 to be 4 * 10^-21 W/Hz, just like in the lecture notes, corresponding to a reference temperature of 290 K."
   ]
  },
  {
   "cell_type": "code",
   "execution_count": 17,
   "id": "4085d0a7",
   "metadata": {},
   "outputs": [],
   "source": [
    "def interplanetary_probe_radar_ede_distance(peak_transmit_power,\n",
    "                                            gain_transmit,\n",
    "                                            gain_receive,\n",
    "                                            radar_wavelength,\n",
    "                                            radar_cross_section,\n",
    "                                            effective_noise_bandwidth,\n",
    "                                            radar_noise_figure,\n",
    "                                            other_losses,\n",
    "                                            snr):\n",
    "    \n",
    "    kT_0 = 4 * 10**-21 * u.W / u.Hz\n",
    "    distance = (peak_transmit_power * gain_transmit * gain_receive * radar_wavelength**2 * radar_cross_section / ((4 * np.pi)**3 * snr * kT_0 * effective_noise_bandwidth * radar_noise_figure * other_losses))**(1/4)\n",
    "    \n",
    "    return distance.si"
   ]
  },
  {
   "cell_type": "markdown",
   "id": "5e26f8ee",
   "metadata": {},
   "source": [
    "Trying this with some random numbers to check units."
   ]
  },
  {
   "cell_type": "code",
   "execution_count": 18,
   "id": "03442764",
   "metadata": {},
   "outputs": [
    {
     "data": {
      "text/latex": [
       "$14169.845 \\; \\mathrm{m}$"
      ],
      "text/plain": [
       "<Quantity 14169.84497014 m>"
      ]
     },
     "execution_count": 18,
     "metadata": {},
     "output_type": "execute_result"
    }
   ],
   "source": [
    "interplanetary_probe_radar_ede_distance(1 * u.W,\n",
    "                                        2,\n",
    "                                        2,\n",
    "                                        1 * u.m,\n",
    "                                        4 * u.m**2,\n",
    "                                        1 * u.Hz,\n",
    "                                        5,\n",
    "                                        1,\n",
    "                                        10)"
   ]
  },
  {
   "cell_type": "markdown",
   "id": "1fa6ab9c",
   "metadata": {},
   "source": [
    "Okay, it's a distance this time!!! Next step, I think, is to read through the rest of the radar PDF and take notes about each term. Once we understand it, we can plug in the real numbers for a few case studies (Arecibo-to-mylar balloon, Arecibo-to-well-aligned-ISS) and call it a day!"
   ]
  }
 ],
 "metadata": {
  "kernelspec": {
   "display_name": "Python 3",
   "language": "python",
   "name": "python3"
  },
  "language_info": {
   "codemirror_mode": {
    "name": "ipython",
    "version": 3
   },
   "file_extension": ".py",
   "mimetype": "text/x-python",
   "name": "python",
   "nbconvert_exporter": "python",
   "pygments_lexer": "ipython3",
   "version": "3.7.6"
  }
 },
 "nbformat": 4,
 "nbformat_minor": 5
}
