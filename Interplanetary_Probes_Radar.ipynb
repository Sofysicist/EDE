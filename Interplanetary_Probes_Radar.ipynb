{
 "cells": [
  {
   "cell_type": "markdown",
   "id": "f0399632",
   "metadata": {},
   "source": [
    "# EDE - Interplanetary Probes - Radar Calculation"
   ]
  },
  {
   "cell_type": "markdown",
   "id": "a0efcf58",
   "metadata": {},
   "source": [
    "## Best Case: Arecibo-to-Echo 2-to-Arecibo"
   ]
  },
  {
   "cell_type": "code",
   "execution_count": 1,
   "id": "7612a498",
   "metadata": {},
   "outputs": [],
   "source": [
    "import numpy as np\n",
    "import pandas as pd\n",
    "import matplotlib.pyplot as plt\n",
    "import astropy.units as u\n",
    "import astropy.constants as const"
   ]
  },
  {
   "cell_type": "code",
   "execution_count": 2,
   "id": "82149d2c",
   "metadata": {},
   "outputs": [],
   "source": [
    "def snr(p_r, delta_p_n):\n",
    "    return p_r / delta_p_n"
   ]
  },
  {
   "cell_type": "code",
   "execution_count": 3,
   "id": "d93d4180",
   "metadata": {},
   "outputs": [],
   "source": [
    "def p_r(p_t, g_t, g_r, lamda, sigma, r):\n",
    "    return (p_t * g_t * g_r * lamda**2 * sigma) / ((4 * np.pi)**3 * r**4)"
   ]
  },
  {
   "cell_type": "code",
   "execution_count": 4,
   "id": "26383c68",
   "metadata": {},
   "outputs": [],
   "source": [
    "def delta_p_n(p_n, delta_f, delta_t):\n",
    "    return p_n / np.sqrt(delta_f * delta_t)"
   ]
  },
  {
   "cell_type": "markdown",
   "id": "84c35965",
   "metadata": {},
   "source": [
    "Main EQ"
   ]
  },
  {
   "cell_type": "code",
   "execution_count": 5,
   "id": "91e9a2fe",
   "metadata": {},
   "outputs": [],
   "source": [
    "def r(p_t, g_t, g_r, lamda, sigma, delta_f, delta_t, snr, p_n):\n",
    "    return (((p_t * g_t * g_r * lamda**2 * sigma * np.sqrt(delta_f * delta_t))/((4 * np.pi)**3 * snr * p_n))**(1/4)).to(u.AU)"
   ]
  },
  {
   "cell_type": "markdown",
   "id": "05648e06",
   "metadata": {},
   "source": [
    "Sub-EQs"
   ]
  },
  {
   "cell_type": "code",
   "execution_count": 6,
   "id": "51a07e1d",
   "metadata": {},
   "outputs": [],
   "source": [
    "def get_p_n(t_sys, delta_f):\n",
    "    return (const.k_B * t_sys * delta_f).to(u.W)"
   ]
  },
  {
   "cell_type": "code",
   "execution_count": 7,
   "id": "c9211206",
   "metadata": {},
   "outputs": [],
   "source": [
    "def get_delta_f(d, lamda, p_rot, frequency_resolution):\n",
    "    #rotation_broadening = (d/(lamda * p_rot)).to(u.Hz)\n",
    "    rotation_broadening = (4 * np.pi * d/(lamda * p_rot)).to(u.Hz)\n",
    "    if rotation_broadening > frequency_resolution:\n",
    "        return rotation_broadening\n",
    "    else:\n",
    "        return frequency_resolution\n"
   ]
  },
  {
   "cell_type": "code",
   "execution_count": 8,
   "id": "3373fe2a",
   "metadata": {},
   "outputs": [],
   "source": [
    "def get_g(epsilon, a, lamda):\n",
    "    return (4 * np.pi * epsilon * a / lamda**2).to(u.W/u.W)"
   ]
  },
  {
   "cell_type": "code",
   "execution_count": 9,
   "id": "d90ff9a5",
   "metadata": {},
   "outputs": [],
   "source": [
    "def get_sigma(alpha, d):\n",
    "    return alpha * np.pi * d**2 / 4"
   ]
  },
  {
   "cell_type": "markdown",
   "id": "c3ff6e42",
   "metadata": {},
   "source": [
    "*List of necessary constants*"
   ]
  },
  {
   "cell_type": "code",
   "execution_count": 10,
   "id": "91be1368",
   "metadata": {},
   "outputs": [],
   "source": [
    "diameter_of_echo2 = 41.1 * u.m #from Wikipedia\n",
    "albedo_of_echo2 = 1 #assumed perfect\n",
    "rotation_period_of_echo2 = 1 * u.day #assume tidal-locking\n",
    "\n",
    "diameter_of_arecibo = 305 * u.m #from murray and jennet, also Busch\n",
    "radius_of_arecibo = 0.5 * diameter_of_arecibo\n",
    "area_of_arecibo = np.pi * (radius_of_arecibo)**2\n",
    "efficiency_of_arecibo = 0.38 #from Busch\n",
    "frequency_of_arecibo = 2380 * u.MHz #from murray and jennet, also Busch\n",
    "transmitter_power_of_arecibo = 1 * u.MW #900 * u.kW from Busch\n",
    "#murray and jennet\n",
    "system_temperature_of_arecibo = 20 * u.K #23 * u.K from Busch\n",
    "bandwidth_of_arecibo = 10 * u.MHz #from murray and jennet\n",
    "frequency_resolution_of_arecibo = 1 * u.Hz #from taylor\n",
    "time_resolution_of_arecibo = 1 * u.microsecond#from taylor, samples per baud??? I'm guessing here\n",
    "integration_time_of_arecibo = 1 * u.hour\n",
    "\n",
    "frequency_resolution = frequency_resolution_of_arecibo\n",
    "#time_resolution = time_resolution_of_arecibo\n",
    "integration_time = integration_time_of_arecibo"
   ]
  },
  {
   "cell_type": "code",
   "execution_count": 11,
   "id": "46dcedb6",
   "metadata": {},
   "outputs": [],
   "source": [
    "#don't have to worry about changing from transmit to receive (4 sec) b/c\n",
    "#we'll be at much greater distances. Similarly, this won't set the time\n",
    "#resolution\n",
    "\n",
    "#radar albedo\n",
    "alpha = albedo_of_echo2\n",
    "\n",
    "#diameter of target\n",
    "d = diameter_of_echo2\n",
    "\n",
    "#aperture efficiency of transmitter\n",
    "epsilon_t = efficiency_of_arecibo\n",
    "\n",
    "#aperture efficiency of receiver\n",
    "epsilon_r = efficiency_of_arecibo\n",
    "\n",
    "#area of transmitter\n",
    "a_t = area_of_arecibo\n",
    "\n",
    "#area of receiver\n",
    "a_r = area_of_arecibo\n",
    "\n",
    "#wavelength of transmission\n",
    "lamda = (const.c / frequency_of_arecibo).to(u.cm)\n",
    "\n",
    "#transmitter power\n",
    "p_t = transmitter_power_of_arecibo\n",
    "\n",
    "#system temperature of receiver\n",
    "t_sys = system_temperature_of_arecibo\n",
    "\n",
    "#rotation period of target\n",
    "p_rot = rotation_period_of_echo2\n",
    "\n",
    "#time integration = match to pulse\n",
    "#frequency integration = match to min capabilities"
   ]
  },
  {
   "cell_type": "code",
   "execution_count": 12,
   "id": "3972af17",
   "metadata": {},
   "outputs": [],
   "source": [
    "g_t = get_g(epsilon_t, a_t, lamda)\n",
    "g_r = get_g(epsilon_r, a_r, lamda)\n",
    "sigma = get_sigma(alpha, d)\n",
    "delta_f = get_delta_f(d, lamda, p_rot, frequency_resolution)\n",
    "delta_t = integration_time\n",
    "snr = 5\n",
    "p_n = get_p_n(t_sys, delta_f)"
   ]
  },
  {
   "cell_type": "code",
   "execution_count": 13,
   "id": "2057a1c0",
   "metadata": {},
   "outputs": [
    {
     "data": {
      "text/latex": [
       "$0.14524367 \\; \\mathrm{AU}$"
      ],
      "text/plain": [
       "<Quantity 0.14524367 AU>"
      ]
     },
     "execution_count": 13,
     "metadata": {},
     "output_type": "execute_result"
    }
   ],
   "source": [
    "r(p_t, \n",
    "  g_t, \n",
    "  g_r, \n",
    "  lamda, \n",
    "  sigma, \n",
    "  delta_f, \n",
    "  delta_t, \n",
    "  snr, \n",
    "  p_n)"
   ]
  },
  {
   "cell_type": "code",
   "execution_count": null,
   "id": "644b10ca",
   "metadata": {},
   "outputs": [],
   "source": []
  }
 ],
 "metadata": {
  "kernelspec": {
   "display_name": "Python 3 (ipykernel)",
   "language": "python",
   "name": "python3"
  },
  "language_info": {
   "codemirror_mode": {
    "name": "ipython",
    "version": 3
   },
   "file_extension": ".py",
   "mimetype": "text/x-python",
   "name": "python",
   "nbconvert_exporter": "python",
   "pygments_lexer": "ipython3",
   "version": "3.9.12"
  }
 },
 "nbformat": 4,
 "nbformat_minor": 5
}
