{
 "cells": [
  {
   "cell_type": "markdown",
   "id": "f0399632",
   "metadata": {},
   "source": [
    "# EDE - Radio Emission Calculation"
   ]
  },
  {
   "cell_type": "markdown",
   "id": "a0efcf58",
   "metadata": {},
   "source": [
    "## Best Case Planetary Radar: Arecibo-to-SKA1Mid"
   ]
  },
  {
   "cell_type": "code",
   "execution_count": 1,
   "id": "7612a498",
   "metadata": {},
   "outputs": [],
   "source": [
    "import numpy as np\n",
    "import pandas as pd\n",
    "import matplotlib.pyplot as plt\n",
    "import astropy.units as u\n",
    "import astropy.constants as const"
   ]
  },
  {
   "cell_type": "code",
   "execution_count": 26,
   "id": "644b10ca",
   "metadata": {},
   "outputs": [],
   "source": [
    "def distance(EIRP_min, delta_nu, tau_obs, snr, sefd):\n",
    "    return np.sqrt((EIRP_min * np.sqrt(tau_obs))/(4 * np.pi * snr * sefd * np.sqrt(delta_nu)))"
   ]
  },
  {
   "cell_type": "markdown",
   "id": "932382c7",
   "metadata": {},
   "source": [
    "\"The combined sensitivity of SKA1-Mid, including both the 133 SKA1 15m dishes as well as the 64\n",
    "MeerKAT 13.5m dishes is given by the sum of Aeff/Tsys over all dishes and is listed in Table 4\" - https://www.skao.int/sites/default/files/documents/d2-SKA-TEL-SKO-0000818-01_SKA1_Science_Perform_0.pdf -> S-band is \"not yet part of the current development plan\", but let's be optimistic. Also consider that this neglects drift and spectral broadening considerations, which could be significant at a few kpc."
   ]
  },
  {
   "cell_type": "code",
   "execution_count": 27,
   "id": "65fedb4a",
   "metadata": {},
   "outputs": [],
   "source": [
    "ska1_mid_frequency = 2.427 * u.GHz \n",
    "ska1_mid_array_aeff_over_tsys = 1828 * u.m**2 / u.K\n",
    "\n",
    "#this does not include the degradation_factor or efficiency factor"
   ]
  },
  {
   "cell_type": "code",
   "execution_count": 28,
   "id": "d5032b68",
   "metadata": {},
   "outputs": [],
   "source": [
    "ska_sefd = 2 * const.k_B / (ska1_mid_array_aeff_over_tsys)"
   ]
  },
  {
   "cell_type": "code",
   "execution_count": 29,
   "id": "13c5ea06",
   "metadata": {},
   "outputs": [
    {
     "name": "stdout",
     "output_type": "stream",
     "text": [
      "1.5105568927789934 Jy\n"
     ]
    }
   ],
   "source": [
    "print(sefd.to('Jy'))"
   ]
  },
  {
   "cell_type": "code",
   "execution_count": 30,
   "id": "33b23f02",
   "metadata": {},
   "outputs": [],
   "source": [
    "ska_snr = 5\n",
    "tau_obs = 1 * u.hr\n",
    "\n",
    "EIRP_arecibo = 2 * 10**20 * u.erg/u.s\n",
    "EIRP_aircraft = 1 * 10**17 * u.erg/u.s\n",
    "EIRP_leakage = 5 * 10**12 * u.erg/u.s\n",
    "\n",
    "delta_nu_arecibo = 0.01 * u.Hz\n",
    "delta_nu_aircraft = 0.01 * u.Hz\n",
    "delta_nu_leakage = 1 / tau_obs"
   ]
  },
  {
   "cell_type": "code",
   "execution_count": 31,
   "id": "a5265cfc",
   "metadata": {},
   "outputs": [],
   "source": [
    "arecibo_to_ska_distance = distance(EIRP_arecibo, delta_nu_arecibo, tau_obs, ska_snr, ska_sefd)\n",
    "aircraft_to_ska_distance = distance(EIRP_aircraft, delta_nu_aircraft, tau_obs, ska_snr, ska_sefd)\n",
    "leakage_to_ska_distance = distance(EIRP_leakage, delta_nu_leakage, tau_obs, ska_snr, ska_sefd)"
   ]
  },
  {
   "cell_type": "code",
   "execution_count": 33,
   "id": "44ff2263",
   "metadata": {},
   "outputs": [
    {
     "name": "stdout",
     "output_type": "stream",
     "text": [
      "11885.22684887273 lyr\n",
      "265.7617516208504 lyr\n",
      "4.603128565158133 lyr\n"
     ]
    }
   ],
   "source": [
    "print(arecibo_to_ska_distance.to(u.lightyear))\n",
    "print(aircraft_to_ska_distance.to(u.lightyear))\n",
    "print(leakage_to_ska_distance.to(u.lightyear))"
   ]
  },
  {
   "cell_type": "code",
   "execution_count": null,
   "id": "1e2ddf40",
   "metadata": {},
   "outputs": [],
   "source": []
  }
 ],
 "metadata": {
  "kernelspec": {
   "display_name": "Python 3 (ipykernel)",
   "language": "python",
   "name": "python3"
  },
  "language_info": {
   "codemirror_mode": {
    "name": "ipython",
    "version": 3
   },
   "file_extension": ".py",
   "mimetype": "text/x-python",
   "name": "python",
   "nbconvert_exporter": "python",
   "pygments_lexer": "ipython3",
   "version": "3.9.12"
  }
 },
 "nbformat": 4,
 "nbformat_minor": 5
}
