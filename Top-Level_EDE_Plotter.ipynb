{
 "cells": [
  {
   "cell_type": "code",
   "execution_count": 4,
   "id": "034d477a",
   "metadata": {},
   "outputs": [],
   "source": [
    "import matplotlib.pyplot as plt\n",
    "import numpy as np\n",
    "import astropy.units as u\n",
    "import pandas as pd\n",
    "plt.rcParams.update({'font.size': 15})"
   ]
  },
  {
   "cell_type": "code",
   "execution_count": 5,
   "id": "4aa39f73",
   "metadata": {},
   "outputs": [],
   "source": [
    "#colorblind friendly palette\n",
    "tol_muted = ['#88CCEE', \n",
    "             '#44AA99', \n",
    "             '#117733', \n",
    "             '#332288', \n",
    "             '#DDCC77', \n",
    "             '#999933',\n",
    "             '#CC6677', \n",
    "             '#882255', \n",
    "             '#AA4499', \n",
    "             '#DDDDDD']"
   ]
  },
  {
   "cell_type": "code",
   "execution_count": 57,
   "id": "8a52265e",
   "metadata": {},
   "outputs": [],
   "source": [
    "results_dict = {\"planetary radar low\": [(11885.22684887273 * u.lyr).to('au'), tol_muted[0], 1 * u.hr],\n",
    "           \"aircraft radar low\": [(265.7617516208504 * u.lyr).to('au'), tol_muted[1], 1 * u.hr],\n",
    "           \"atmospheric NO2\": [(3 * u.pc).to('au'), tol_muted[2], 800 * u.hr],\n",
    "           \"leakage radio low\": [(4.603128565158133 * u.lyr).to('au'), tol_muted[3], 1 * u.hr],\n",
    "           \"radar\": [(0.15 * u.au), tol_muted[4], 1 * u.hr],\n",
    "           \"planetary radar high\": [(42532.257778170664 * u.lyr).to('au'), tol_muted[0], 164 * u.hr],\n",
    "           \"aircraft radar high\": [(951.0501962853378 * u.lyr).to('au'), tol_muted[1], 164 * u.hr],\n",
    "           \"leakage radio high\": [(58.94880816716707 * u.lyr).to('au'), tol_muted[3], 164 * u.hr],\n",
    "           \"voyager radio high\": [(3.45533695625735 * u.lyr).to('au'), tol_muted[5], 164 * u.hr]}"
   ]
  },
  {
   "cell_type": "code",
   "execution_count": 58,
   "id": "f2e9fc75",
   "metadata": {},
   "outputs": [],
   "source": [
    "full_dataframe = pd.DataFrame.from_dict(results_dict, \n",
    "                                        orient='index', \n",
    "                                        columns=['distance', 'color', 'integration_time'])"
   ]
  },
  {
   "cell_type": "code",
   "execution_count": 59,
   "id": "16af193b",
   "metadata": {},
   "outputs": [],
   "source": [
    "full_dataframe_sorted = full_dataframe.sort_values('distance')"
   ]
  },
  {
   "cell_type": "code",
   "execution_count": 60,
   "id": "f34fe06e",
   "metadata": {},
   "outputs": [
    {
     "data": {
      "text/html": [
       "<div>\n",
       "<style scoped>\n",
       "    .dataframe tbody tr th:only-of-type {\n",
       "        vertical-align: middle;\n",
       "    }\n",
       "\n",
       "    .dataframe tbody tr th {\n",
       "        vertical-align: top;\n",
       "    }\n",
       "\n",
       "    .dataframe thead th {\n",
       "        text-align: right;\n",
       "    }\n",
       "</style>\n",
       "<table border=\"1\" class=\"dataframe\">\n",
       "  <thead>\n",
       "    <tr style=\"text-align: right;\">\n",
       "      <th></th>\n",
       "      <th>distance</th>\n",
       "      <th>color</th>\n",
       "      <th>integration_time</th>\n",
       "    </tr>\n",
       "  </thead>\n",
       "  <tbody>\n",
       "    <tr>\n",
       "      <th>radar</th>\n",
       "      <td>0.15 AU</td>\n",
       "      <td>#DDCC77</td>\n",
       "      <td>1.0 h</td>\n",
       "    </tr>\n",
       "    <tr>\n",
       "      <th>voyager radio high</th>\n",
       "      <td>218519.2308027851 AU</td>\n",
       "      <td>#999933</td>\n",
       "      <td>164.0 h</td>\n",
       "    </tr>\n",
       "    <tr>\n",
       "      <th>leakage radio low</th>\n",
       "      <td>291106.8084179535 AU</td>\n",
       "      <td>#332288</td>\n",
       "      <td>1.0 h</td>\n",
       "    </tr>\n",
       "    <tr>\n",
       "      <th>atmospheric NO2</th>\n",
       "      <td>618794.4187412891 AU</td>\n",
       "      <td>#117733</td>\n",
       "      <td>800.0 h</td>\n",
       "    </tr>\n",
       "    <tr>\n",
       "      <th>leakage radio high</th>\n",
       "      <td>3727986.121325439 AU</td>\n",
       "      <td>#332288</td>\n",
       "      <td>164.0 h</td>\n",
       "    </tr>\n",
       "    <tr>\n",
       "      <th>aircraft radar low</th>\n",
       "      <td>16807059.420303833 AU</td>\n",
       "      <td>#44AA99</td>\n",
       "      <td>1.0 h</td>\n",
       "    </tr>\n",
       "    <tr>\n",
       "      <th>aircraft radar high</th>\n",
       "      <td>60145438.774287626 AU</td>\n",
       "      <td>#44AA99</td>\n",
       "      <td>164.0 h</td>\n",
       "    </tr>\n",
       "    <tr>\n",
       "      <th>planetary radar low</th>\n",
       "      <td>751634547.3135515 AU</td>\n",
       "      <td>#88CCEE</td>\n",
       "      <td>1.0 h</td>\n",
       "    </tr>\n",
       "    <tr>\n",
       "      <th>planetary radar high</th>\n",
       "      <td>2689785792.717175 AU</td>\n",
       "      <td>#88CCEE</td>\n",
       "      <td>164.0 h</td>\n",
       "    </tr>\n",
       "  </tbody>\n",
       "</table>\n",
       "</div>"
      ],
      "text/plain": [
       "                                   distance    color integration_time\n",
       "radar                               0.15 AU  #DDCC77            1.0 h\n",
       "voyager radio high     218519.2308027851 AU  #999933          164.0 h\n",
       "leakage radio low      291106.8084179535 AU  #332288            1.0 h\n",
       "atmospheric NO2        618794.4187412891 AU  #117733          800.0 h\n",
       "leakage radio high     3727986.121325439 AU  #332288          164.0 h\n",
       "aircraft radar low    16807059.420303833 AU  #44AA99            1.0 h\n",
       "aircraft radar high   60145438.774287626 AU  #44AA99          164.0 h\n",
       "planetary radar low    751634547.3135515 AU  #88CCEE            1.0 h\n",
       "planetary radar high   2689785792.717175 AU  #88CCEE          164.0 h"
      ]
     },
     "execution_count": 60,
     "metadata": {},
     "output_type": "execute_result"
    }
   ],
   "source": [
    "full_dataframe_sorted"
   ]
  },
  {
   "cell_type": "code",
   "execution_count": 61,
   "id": "2b125a86",
   "metadata": {},
   "outputs": [
    {
     "data": {
      "text/plain": [
       "[]"
      ]
     },
     "execution_count": 61,
     "metadata": {},
     "output_type": "execute_result"
    },
    {
     "data": {
      "image/png": "[encoded data removed]",
      "text/plain": [
       "<Figure size 864x576 with 1 Axes>"
      ]
     },
     "metadata": {
      "needs_background": "light"
     },
     "output_type": "display_data"
    }
   ],
   "source": [
    "fig, ax = plt.subplots(figsize=(12,8))\n",
    "\n",
    "count = 0\n",
    "for index, row in full_dataframe_sorted.iterrows():\n",
    "    method = index\n",
    "    result = row['distance']\n",
    "    plt.axhline(count, color='black', alpha=0.25)\n",
    "    plt.scatter(result, count, s=500, color=row['color'])\n",
    "    count += 1\n",
    "    \n",
    "ax.set_yticks(range(len(full_dataframe_sorted)))\n",
    "ax.set_yticklabels(full_dataframe_sorted.index.values)\n",
    "ax.set_ylabel(\"Method\")\n",
    "ax.set_xlabel(\"Distance (log AU)\")\n",
    "ax.semilogx()\n",
    "    \n",
    "#for i in range(len(results)):\n",
    "#    method = methods[i]\n",
    "#    result = results[i]\n",
    "#    plt.axhline(i, color='black', alpha=0.25)\n",
    "#    plt.scatter(result, i, s=500, color=tol_muted[i])\n",
    "\n",
    "#ax.set_yticks(range(len(results)))\n",
    "#ax.set_yticklabels(methods)\n",
    "#ax.set_ylabel(\"Method\")\n",
    "#ax.set_xlabel(\"Distance (log AU)\")\n",
    "#ax.semilogx()"
   ]
  },
  {
   "cell_type": "code",
   "execution_count": null,
   "id": "7b87e60c",
   "metadata": {},
   "outputs": [],
   "source": []
  },
  {
   "cell_type": "code",
   "execution_count": null,
   "id": "d5de8fac",
   "metadata": {},
   "outputs": [],
   "source": []
  }
 ],
 "metadata": {
  "kernelspec": {
   "display_name": "Python 3 (ipykernel)",
   "language": "python",
   "name": "python3"
  },
  "language_info": {
   "codemirror_mode": {
    "name": "ipython",
    "version": 3
   },
   "file_extension": ".py",
   "mimetype": "text/x-python",
   "name": "python",
   "nbconvert_exporter": "python",
   "pygments_lexer": "ipython3",
   "version": "3.9.12"
  }
 },
 "nbformat": 4,
 "nbformat_minor": 5
}
